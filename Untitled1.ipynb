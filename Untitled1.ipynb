{
 "cells": [
  {
   "cell_type": "markdown",
   "metadata": {},
   "source": [
    "Write a Python function called counts that takes a list as input and returns a dictionary of unique items in the list as keys and the number of times each item appears as values. \n",
    "So, the input ['A', 'A', 'B', 'C', 'A'] should have output {'A': 3, 'B': 1, 'C': 1} .\n",
    "Your code should not depend on any module from the standard library1 or otherwise. You should research the task first and include a description with references of your algorithm in the\n",
    "notebook."
   ]
  },
  {
   "cell_type": "markdown",
   "metadata": {},
   "source": [
    "The count function below will take a list as a argument.  "
   ]
  },
  {
   "cell_type": "code",
   "execution_count": 64,
   "metadata": {},
   "outputs": [],
   "source": [
    "def count(l):\n",
    "    \"\"\"\n",
    "    https://www.programiz.com/python-programming/methods/list/sort\n",
    "    1. sort the list\n",
    "    2.http://www.learningaboutelectronics.com/Articles/How-to-create-an-empty-dictionary-in-Python.php\n",
    "    \"\"\"\n",
    "    convertStr = \"\"\n",
    "    \n",
    "    print(\"Converted String \", convertStr)\n",
    "    #[2]. Create a dict\n",
    "    items = {}\n",
    "    for i in l:\n",
    "        print(\"for \",i)\n",
    "        #loop over the inputted list\n",
    "        if i in items:\n",
    "            # the interesting thing here is that the \"in\" will check if i is in the list\n",
    "            items[i] += 1\n",
    "            print(\"if\")\n",
    "        else:\n",
    "            items[i] =1\n",
    "            print(\"else\")\n",
    "    #print(\"Count all characters\"+ str(all_freq)) \n",
    "    return items\n",
    "    # Python3 code to demonstrate \n",
    "# each occurrence frequency using \n",
    "# naive method \n",
    "\n",
    "# using naive method to get count \n",
    "# of each element in string \n",
    "# printing result \n",
    "\n",
    "\n",
    "            \n",
    "        \n",
    "    \n",
    "    "
   ]
  },
  {
   "cell_type": "code",
   "execution_count": 65,
   "metadata": {},
   "outputs": [],
   "source": [
    "input = ['A', 'A', 'B', 'C', 'A']"
   ]
  },
  {
   "cell_type": "code",
   "execution_count": 66,
   "metadata": {},
   "outputs": [
    {
     "ename": "NameError",
     "evalue": "name 'str1' is not defined",
     "output_type": "error",
     "traceback": [
      "\u001b[1;31m-------------------------------------------------------\u001b[0m",
      "\u001b[1;31mNameError\u001b[0m             Traceback (most recent call last)",
      "\u001b[1;32m<ipython-input-66-8b020567041c>\u001b[0m in \u001b[0;36m<module>\u001b[1;34m\u001b[0m\n\u001b[1;32m----> 1\u001b[1;33m \u001b[0mcount\u001b[0m\u001b[1;33m(\u001b[0m\u001b[0minput\u001b[0m\u001b[1;33m)\u001b[0m\u001b[1;33m\u001b[0m\u001b[1;33m\u001b[0m\u001b[0m\n\u001b[0m",
      "\u001b[1;32m<ipython-input-64-3979a82f998a>\u001b[0m in \u001b[0;36mcount\u001b[1;34m(l)\u001b[0m\n\u001b[0;32m      5\u001b[0m     \u001b[1;36m2.\u001b[0m\u001b[0mhttp\u001b[0m\u001b[1;33m:\u001b[0m\u001b[1;33m//\u001b[0m\u001b[0mwww\u001b[0m\u001b[1;33m.\u001b[0m\u001b[0mlearningaboutelectronics\u001b[0m\u001b[1;33m.\u001b[0m\u001b[0mcom\u001b[0m\u001b[1;33m/\u001b[0m\u001b[0mArticles\u001b[0m\u001b[1;33m/\u001b[0m\u001b[0mHow\u001b[0m\u001b[1;33m-\u001b[0m\u001b[0mto\u001b[0m\u001b[1;33m-\u001b[0m\u001b[0mcreate\u001b[0m\u001b[1;33m-\u001b[0m\u001b[0man\u001b[0m\u001b[1;33m-\u001b[0m\u001b[0mempty\u001b[0m\u001b[1;33m-\u001b[0m\u001b[0mdictionary\u001b[0m\u001b[1;33m-\u001b[0m\u001b[1;32min\u001b[0m\u001b[1;33m-\u001b[0m\u001b[0mPython\u001b[0m\u001b[1;33m.\u001b[0m\u001b[0mphp\u001b[0m\u001b[1;33m\u001b[0m\u001b[1;33m\u001b[0m\u001b[0m\n\u001b[0;32m      6\u001b[0m     \"\"\"\n\u001b[1;32m----> 7\u001b[1;33m     \u001b[0mconvertStr\u001b[0m \u001b[1;33m=\u001b[0m \u001b[0mstr1\u001b[0m\u001b[1;33m.\u001b[0m\u001b[0mjoin\u001b[0m\u001b[1;33m(\u001b[0m\u001b[0ml\u001b[0m\u001b[1;33m)\u001b[0m\u001b[1;33m\u001b[0m\u001b[1;33m\u001b[0m\u001b[0m\n\u001b[0m\u001b[0;32m      8\u001b[0m     \u001b[0mprint\u001b[0m\u001b[1;33m(\u001b[0m\u001b[1;34m\"Converted String \"\u001b[0m\u001b[1;33m,\u001b[0m \u001b[0mconvertStr\u001b[0m\u001b[1;33m)\u001b[0m\u001b[1;33m\u001b[0m\u001b[1;33m\u001b[0m\u001b[0m\n\u001b[0;32m      9\u001b[0m     \u001b[1;31m#[2]. Create a dict\u001b[0m\u001b[1;33m\u001b[0m\u001b[1;33m\u001b[0m\u001b[1;33m\u001b[0m\u001b[0m\n",
      "\u001b[1;31mNameError\u001b[0m: name 'str1' is not defined"
     ]
    }
   ],
   "source": [
    "count(input)"
   ]
  },
  {
   "cell_type": "code",
   "execution_count": null,
   "metadata": {},
   "outputs": [],
   "source": []
  }
 ],
 "metadata": {
  "kernelspec": {
   "display_name": "Python 3",
   "language": "python",
   "name": "python3"
  },
  "language_info": {
   "codemirror_mode": {
    "name": "ipython",
    "version": 3
   },
   "file_extension": ".py",
   "mimetype": "text/x-python",
   "name": "python",
   "nbconvert_exporter": "python",
   "pygments_lexer": "ipython3",
   "version": "3.8.3"
  }
 },
 "nbformat": 4,
 "nbformat_minor": 4
}
