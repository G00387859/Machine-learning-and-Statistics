{
 "cells": [
  {
   "cell_type": "markdown",
   "metadata": {},
   "source": [
    "    Task 2 Chi Squared Test.\n",
    "![equation](https://wikimedia.org/api/rest_v1/media/math/render/svg/69331c954dbe94da0301bf56d14e4394ef545b08)\n",
    "To do a Chi Squared Test:\n",
    "<br/>\n",
    "Step1: State the null hypothesis(Ho) and the alternative(H1)\n",
    "<br/>\n",
    "Defining the null hypothesis (H0) which states that there is no relation between the variables. An alternate hypothesis would state that there is a significant relation between the two.\n",
    "****\n",
    "<br/>\n",
    "Step2: Choose leve of significance(alpa)\n",
    "****\n",
    "<br/>\n",
    "Step3. Find critical values\n",
    "****\n",
    "<br/>\n",
    "Step4. Find test statistic\n",
    "****\n",
    "<br/>\n",
    "Step5 Draw your conclusions\n",
    "\n",
    "\n"
   ]
  },
  {
   "cell_type": "markdown",
   "metadata": {},
   "source": [
    "https://www.geeksforgeeks.org/python-pearsons-chi-square-test/"
   ]
  },
  {
   "cell_type": "markdown",
   "metadata": {},
   "source": [
    "#### The aim of the test is to conclude whether the two variables( collar type and choice of A,B,C,D ) are related to each other."
   ]
  },
  {
   "cell_type": "markdown",
   "metadata": {},
   "source": [
    "#### Using p-value:\n",
    "We define a significance factor to determine whether the relation between the variables is of considerable significance. \n",
    "Generally a significance factor or alpha value of 0.05 is chosen. \n",
    "This alpha value denotes the probability of erroneously rejecting H0 when it is true. \n",
    "A lower alpha value is chosen in cases where we expect more precision. \n",
    "If the p-value for the test comes out to be strictly greater than the alpha value, then H0 holds true."
   ]
  },
  {
   "cell_type": "markdown",
   "metadata": {},
   "source": [
    "#### Using chi-square value:\n",
    "If our calculated value of chi-square is less or equal to the tabular(also called critical) value of chi-square, then H0 holds true."
   ]
  },
  {
   "cell_type": "markdown",
   "metadata": {},
   "source": [
    "#### Expected Values Table :\n",
    "\n",
    "Next, we prepare a similar table of calculated(or expected) values. \n",
    "To do this we need to calculate each item in the new table as : "
   ]
  },
  {
   "cell_type": "markdown",
   "metadata": {},
   "source": [
    "![chisquared](https://www.geeksforgeeks.org/wp-content/ql-cache/quicklatex.com-f20e7e94d2c66cf8c42e73207ecb16b2_l3.svg)"
   ]
  },
  {
   "cell_type": "markdown",
   "metadata": {},
   "source": [
    "Create the chi-squared table"
   ]
  },
  {
   "cell_type": "markdown",
   "metadata": {},
   "source": [
    "From the chi-squared table, we obtain the total of the last column, which gives us the calculated value of chi-square. <br/> \n",
    "\n",
    "Now, we need to find the critical value of chi-square. We can obtain this from a table. \n",
    "To use this table, we need to know the degrees of freedom for the dataset.  \n",
    "The degrees of freedom is defined as : (no. of rows – 1) * (no. of columns – 1).\n",
    "\n"
   ]
  },
  {
   "cell_type": "markdown",
   "metadata": {},
   "source": [
    "Now, let us look at the table and find the value corresponding to 2 degrees of freedom and 0.05 significance factor :"
   ]
  },
  {
   "cell_type": "markdown",
   "metadata": {},
   "source": [
    "![critial table](https://media.geeksforgeeks.org/wp-content/uploads/20200604234722/download.png)"
   ]
  },
  {
   "cell_type": "markdown",
   "metadata": {},
   "source": [
    "The tabular or critical value of chi-square here is  5.991\n",
    "Hence,"
   ]
  },
  {
   "cell_type": "markdown",
   "metadata": {},
   "source": [
    "![](https://www.geeksforgeeks.org/wp-content/ql-cache/quicklatex.com-4c1a1448d2d26bd341a57defecfd3aa9_l3.svg)"
   ]
  },
  {
   "cell_type": "markdown",
   "metadata": {},
   "source": [
    "Therefore, H0 is accepted, that is, the variables do not have a significant relation.\n",
    "Next, let us see how to perform the test in Python."
   ]
  },
  {
   "cell_type": "markdown",
   "metadata": {},
   "source": [
    "Null hypothesis:<br/>\n",
    "We start by defining the null hypothesis (H0) which states that <br/>there is no relation between the variables. \n",
    "An alternate hypothesis would state that there is a significant relation between the two"
   ]
  },
  {
   "cell_type": "code",
   "execution_count": 45,
   "metadata": {},
   "outputs": [
    {
     "name": "stdout",
     "output_type": "stream",
     "text": [
      "stat is  24.5712028585826\n",
      "Expected Values Table\n",
      " [[ 80.53846154  80.53846154 107.38461538  80.53846154]\n",
      " [ 34.84615385  34.84615385  46.46153846  34.84615385]\n",
      " [ 34.61538462  34.61538462  46.15384615  34.61538462]]\n",
      "Degrees of Freedom  6\n",
      "alpha =  0.05\n",
      "This alpha value denotes the probability of erroneously rejecting H0 when it is true\n",
      "If the p-value for the test comes out to be strictly greater than the alpha value, then H0 holds true.\n",
      "p value is 0.0004098425861096696\n",
      "Dependent (reject H0)\n"
     ]
    }
   ],
   "source": [
    "from scipy.stats import chi2_contingency\n",
    "# defining the table \n",
    "\n",
    "data = [[90, 60, 104,95], [30, 50, 51,20],[30,40,45,35]] \n",
    "stat, p, dof, expected = chi2_contingency(data)\n",
    "print(\"stat is \",stat)\n",
    "print(\"Expected Values Table\\n\" , expected)\n",
    "print(\"Degrees of Freedom \",dof)\n",
    "# interpret p-value \n",
    "alpha = 0.05\n",
    "print(\"alpha = \",alpha)\n",
    "print(\"This alpha value denotes the probability of erroneously rejecting H0 when it is true\")\n",
    "print(\"If the p-value for the test comes out to be strictly greater than the alpha value, then H0 holds true.\")\n",
    "print(\"p value is \" + str(p)) \n",
    "if p <= alpha: \n",
    "    print('Dependent (reject H0)') \n",
    "else: \n",
    "    print('Independent (H0 holds true)') "
   ]
  },
  {
   "cell_type": "markdown",
   "metadata": {},
   "source": [
    "Therefore, H0 is rejected, that is, the variables do have a significant relation."
   ]
  },
  {
   "cell_type": "code",
   "execution_count": 14,
   "metadata": {},
   "outputs": [
    {
     "data": {
      "text/html": [
       "<div>\n",
       "<style scoped>\n",
       "    .dataframe tbody tr th:only-of-type {\n",
       "        vertical-align: middle;\n",
       "    }\n",
       "\n",
       "    .dataframe tbody tr th {\n",
       "        vertical-align: top;\n",
       "    }\n",
       "\n",
       "    .dataframe thead th {\n",
       "        text-align: right;\n",
       "    }\n",
       "</style>\n",
       "<table border=\"1\" class=\"dataframe\">\n",
       "  <thead>\n",
       "    <tr style=\"text-align: right;\">\n",
       "      <th></th>\n",
       "      <th>A</th>\n",
       "      <th>B</th>\n",
       "      <th>C</th>\n",
       "      <th>D</th>\n",
       "      <th>Total</th>\n",
       "    </tr>\n",
       "  </thead>\n",
       "  <tbody>\n",
       "    <tr>\n",
       "      <th>White collar</th>\n",
       "      <td>90</td>\n",
       "      <td>60</td>\n",
       "      <td>104</td>\n",
       "      <td>95</td>\n",
       "      <td>349</td>\n",
       "    </tr>\n",
       "    <tr>\n",
       "      <th>Blue collar</th>\n",
       "      <td>30</td>\n",
       "      <td>50</td>\n",
       "      <td>51</td>\n",
       "      <td>20</td>\n",
       "      <td>151</td>\n",
       "    </tr>\n",
       "    <tr>\n",
       "      <th>No collar</th>\n",
       "      <td>30</td>\n",
       "      <td>40</td>\n",
       "      <td>45</td>\n",
       "      <td>35</td>\n",
       "      <td>150</td>\n",
       "    </tr>\n",
       "    <tr>\n",
       "      <th>Total</th>\n",
       "      <td>150</td>\n",
       "      <td>150</td>\n",
       "      <td>200</td>\n",
       "      <td>150</td>\n",
       "      <td>650</td>\n",
       "    </tr>\n",
       "  </tbody>\n",
       "</table>\n",
       "</div>"
      ],
      "text/plain": [
       "                A    B    C    D  Total\n",
       "White collar   90   60  104   95    349\n",
       "Blue collar    30   50   51   20    151\n",
       "No collar      30   40   45   35    150\n",
       "Total         150  150  200  150    650"
      ]
     },
     "execution_count": 14,
     "metadata": {},
     "output_type": "execute_result"
    }
   ],
   "source": [
    "# Manually calculating the chi squared. Not diffcult on paper.\n",
    "# Having a go in pyhton\n",
    "# import libraries\n",
    "import numpy as np \n",
    "import pandas as pd\n",
    "import scipy\n",
    "from scipy.stats import chi2\n",
    "# create contingency table with floats to avoid datatype issues with pd.DataFrame.at \n",
    "ar=np.array([[90, 60, 104,95], [30, 50, 51,20],[30,40,45,35]])    \n",
    "df=pd.DataFrame(ar, columns=[\"A\", \"B\",\"C\",\"D\"])\n",
    "df.index=[\"White collar\", \"Blue collar\", \"No collar\"] \n",
    "df2=df.copy() # create contingency table with the marginal totals and the grand total. \n",
    "df2.loc['Total']= df2.sum(numeric_only=True, axis=0)\n",
    "df2.loc[:,'Total'] = df2.sum(numeric_only=True, axis=1)\n",
    "df2"
   ]
  },
  {
   "cell_type": "markdown",
   "metadata": {},
   "source": [
    "Expected Values Table "
   ]
  },
  {
   "cell_type": "markdown",
   "metadata": {},
   "source": [
    "![](https://www.geeksforgeeks.org/wp-content/ql-cache/quicklatex.com-ddfefcd8d9895016ae4991b191e07bfd_l3.svg)"
   ]
  },
  {
   "cell_type": "code",
   "execution_count": 41,
   "metadata": {},
   "outputs": [
    {
     "data": {
      "text/plain": [
       "80.53846153846153"
      ]
     },
     "execution_count": 41,
     "metadata": {},
     "output_type": "execute_result"
    }
   ],
   "source": [
    "row_total = df2.iloc[0][\"Total\"]\n",
    "column_total=df2.loc[\"Total\"][0]\n",
    "grand_total = df2.loc[\"Total\"][4]\n",
    "ans= (row_total*column_total)/grand_total\n",
    "ans"
   ]
  },
  {
   "cell_type": "markdown",
   "metadata": {},
   "source": [
    "Loop over this cal, for loop."
   ]
  }
 ],
 "metadata": {
  "kernelspec": {
   "display_name": "Python 3",
   "language": "python",
   "name": "python3"
  },
  "language_info": {
   "codemirror_mode": {
    "name": "ipython",
    "version": 3
   },
   "file_extension": ".py",
   "mimetype": "text/x-python",
   "name": "python",
   "nbconvert_exporter": "python",
   "pygments_lexer": "ipython3",
   "version": "3.8.5"
  }
 },
 "nbformat": 4,
 "nbformat_minor": 4
}
