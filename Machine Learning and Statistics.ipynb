{
 "cells": [
  {
   "cell_type": "markdown",
   "metadata": {},
   "source": [
    "Task:To code square root of a number without using the math library or any Library.\n",
    "Code Written by Donal Maher. \n",
    "Research: Understanding the square root and is used. https://en.wikipedia.org/wiki/Square_root\n",
    "The operation of \"a\" to the power of a one half is the same as square root.\n",
    "e.g. 3 to the power of 3 will equal 9. equivalence to 3 multiplied by 3 or 3 to the power of 2. \n",
    "    9 to the power of one half equivalence to 9 to the power of (2*1/2) equals 9. \n",
    "     So ,the square root of 9 equivalence to 9 to the power of a 1/2.\n",
    "Code expalined: The function sqrt2() below will take \"a\" a number as a parameter.\n",
    "         The operation of \"a\" to the power of 1/2 is equivalence to the square root of \"a\""
   ]
  },
  {
   "cell_type": "code",
   "execution_count": 3,
   "metadata": {},
   "outputs": [
    {
     "name": "stdout",
     "output_type": "stream",
     "text": [
      "1.4142135623730951454746218587388284504413604736328125000000000000000000000000000000000000000000000000\n"
     ]
    }
   ],
   "source": [
    "squareRoot = 2**(1/2)\n",
    "formatedSqur=\"{:.100f}\".format(squareRoot)\n",
    "print(formatedSqur)"
   ]
  },
  {
   "cell_type": "code",
   "execution_count": null,
   "metadata": {},
   "outputs": [],
   "source": []
  }
 ],
 "metadata": {
  "kernelspec": {
   "display_name": "Python 3",
   "language": "python",
   "name": "python3"
  },
  "language_info": {
   "codemirror_mode": {
    "name": "ipython",
    "version": 3
   },
   "file_extension": ".py",
   "mimetype": "text/x-python",
   "name": "python",
   "nbconvert_exporter": "python",
   "pygments_lexer": "ipython3",
   "version": "3.7.1"
  }
 },
 "nbformat": 4,
 "nbformat_minor": 2
}
